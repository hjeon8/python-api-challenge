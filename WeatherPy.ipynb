{
 "cells": [
  {
   "cell_type": "markdown",
   "metadata": {},
   "source": [
    "# WeatherPy\n",
    "----\n",
    "\n",
    "#### Note\n",
    "* Instructions have been included for each segment. You do not have to follow them exactly, but they are included to help you think through the steps."
   ]
  },
  {
   "cell_type": "code",
   "execution_count": 28,
   "metadata": {
    "scrolled": true
   },
   "outputs": [],
   "source": [
    "# Dependencies and Setup\n",
    "import matplotlib.pyplot as plt\n",
    "import pandas as pd\n",
    "import numpy as np\n",
    "import requests\n",
    "import time\n",
    "from scipy.stats import linregress\n",
    "import scipy.stats as st\n",
    "\n",
    "# Import API key\n",
    "from api_keys import weather_api_key\n",
    "\n",
    "# Incorporated citipy to determine city based on latitude and longitude\n",
    "from citipy import citipy\n",
    "\n",
    "# Output File (CSV)\n",
    "output_data_file = \"output_data/cities.csv\"\n",
    "\n",
    "# Range of latitudes and longitudes\n",
    "lat_range = (-90, 90)\n",
    "lng_range = (-180, 180)"
   ]
  },
  {
   "cell_type": "markdown",
   "metadata": {},
   "source": [
    "## Generate Cities List"
   ]
  },
  {
   "cell_type": "code",
   "execution_count": 2,
   "metadata": {
    "scrolled": true
   },
   "outputs": [
    {
     "data": {
      "text/plain": [
       "612"
      ]
     },
     "execution_count": 2,
     "metadata": {},
     "output_type": "execute_result"
    }
   ],
   "source": [
    "# List for holding lat_lngs and cities\n",
    "lat_lngs = []\n",
    "cities = []\n",
    "\n",
    "# Create a set of random lat and lng combinations\n",
    "lats = np.random.uniform(low=-90.000, high=90.000, size=1500)\n",
    "lngs = np.random.uniform(low=-180.000, high=180.000, size=1500)\n",
    "lat_lngs = zip(lats, lngs)\n",
    "\n",
    "# Identify nearest city for each lat, lng combination\n",
    "for lat_lng in lat_lngs:\n",
    "    city = citipy.nearest_city(lat_lng[0], lat_lng[1]).city_name\n",
    "    \n",
    "    # If the city is unique, then add it to a our cities list\n",
    "    if city not in cities:\n",
    "        cities.append(city)\n",
    "\n",
    "# Print the city count to confirm sufficient count\n",
    "len(cities)"
   ]
  },
  {
   "cell_type": "code",
   "execution_count": 5,
   "metadata": {},
   "outputs": [
    {
     "name": "stdout",
     "output_type": "stream",
     "text": [
      "Beginning Data Retrieval\n",
      "Processing Record 1 | narsaq\n",
      "Processing Record 2 | angoram\n",
      "Processing Record 3 | asau\n",
      "City not found. Skipping...\n",
      "Processing Record 4 | boca do acre\n",
      "Processing Record 5 | ust-kuyga\n",
      "Processing Record 6 | coquimbo\n",
      "Processing Record 7 | busselton\n",
      "Processing Record 8 | barabinsk\n",
      "Processing Record 9 | palmer\n",
      "Processing Record 10 | hobart\n",
      "Processing Record 11 | lorengau\n",
      "Processing Record 12 | kahului\n",
      "Processing Record 13 | carnarvon\n",
      "Processing Record 14 | shizuishan\n",
      "Processing Record 15 | hithadhoo\n",
      "Processing Record 16 | vanavara\n",
      "Processing Record 17 | vaini\n",
      "Processing Record 18 | taolanaro\n",
      "City not found. Skipping...\n",
      "Processing Record 19 | cape town\n",
      "Processing Record 20 | severo-kurilsk\n",
      "Processing Record 21 | saskylakh\n",
      "Processing Record 22 | mataura\n",
      "Processing Record 23 | hamilton\n",
      "Processing Record 24 | arlit\n",
      "Processing Record 25 | bluff\n",
      "Processing Record 26 | hami\n",
      "Processing Record 27 | anadyr\n",
      "Processing Record 28 | hasaki\n",
      "Processing Record 29 | georgetown\n",
      "Processing Record 30 | norman wells\n",
      "Processing Record 31 | karratha\n",
      "Processing Record 32 | novovorontsovka\n",
      "Processing Record 33 | geraldton\n",
      "Processing Record 34 | saint-philippe\n",
      "Processing Record 35 | nizhneyansk\n",
      "City not found. Skipping...\n",
      "Processing Record 36 | bethel\n",
      "Processing Record 37 | leningradskiy\n",
      "Processing Record 38 | ushuaia\n",
      "Processing Record 39 | pimentel\n",
      "Processing Record 40 | williams lake\n",
      "Processing Record 41 | mahebourg\n",
      "Processing Record 42 | sur\n",
      "Processing Record 43 | bull savanna\n",
      "Processing Record 44 | hermanus\n",
      "Processing Record 45 | aykhal\n",
      "Processing Record 46 | babanusah\n",
      "City not found. Skipping...\n",
      "Processing Record 47 | albany\n",
      "Processing Record 48 | rikitea\n",
      "Processing Record 49 | cap malheureux\n",
      "Processing Record 50 | tazmalt\n",
      "Processing Record 51 | egvekinot\n",
      "Processing Record 52 | upernavik\n",
      "Processing Record 53 | mariental\n",
      "Processing Record 54 | illoqqortoormiut\n",
      "City not found. Skipping...\n",
      "Processing Record 55 | batavia\n",
      "Processing Record 56 | santa vitoria do palmar\n",
      "Processing Record 57 | umm lajj\n",
      "Processing Record 58 | santa maria\n",
      "Processing Record 59 | eyl\n",
      "Processing Record 60 | atuona\n",
      "Processing Record 61 | dikson\n",
      "Processing Record 62 | faanui\n",
      "Processing Record 63 | ancud\n",
      "Processing Record 64 | waseca\n",
      "Processing Record 65 | buchanan\n",
      "Processing Record 66 | nikolskoye\n",
      "Processing Record 67 | hagi\n",
      "Processing Record 68 | ponta do sol\n",
      "Processing Record 69 | arraial do cabo\n",
      "Processing Record 70 | jamestown\n",
      "Processing Record 71 | mar del plata\n",
      "Processing Record 72 | punta arenas\n",
      "Processing Record 73 | tasiilaq\n",
      "Processing Record 74 | deputatskiy\n",
      "Processing Record 75 | hofn\n",
      "Processing Record 76 | kontagora\n",
      "Processing Record 77 | sabang\n",
      "Processing Record 78 | saldanha\n",
      "Processing Record 79 | victoria\n",
      "Processing Record 80 | tura\n",
      "Processing Record 81 | chokurdakh\n",
      "Processing Record 82 | ostrovnoy\n",
      "Processing Record 83 | tiarei\n",
      "Processing Record 84 | kloulklubed\n",
      "Processing Record 85 | la ronge\n",
      "Processing Record 86 | buala\n",
      "Processing Record 87 | songjianghe\n",
      "Processing Record 88 | vila velha\n",
      "Processing Record 89 | nome\n",
      "Processing Record 90 | eenhana\n",
      "Processing Record 91 | brae\n",
      "Processing Record 92 | kavieng\n",
      "Processing Record 93 | ribeira grande\n",
      "Processing Record 94 | harindanga\n",
      "Processing Record 95 | butaritari\n",
      "Processing Record 96 | panaba\n",
      "Processing Record 97 | butterworth\n",
      "Processing Record 98 | avarua\n",
      "Processing Record 99 | sisimiut\n",
      "Processing Record 100 | clyde river\n",
      "Processing Record 101 | luderitz\n",
      "Processing Record 102 | luganville\n",
      "Processing Record 103 | fortuna\n",
      "Processing Record 104 | verkh-usugli\n",
      "Processing Record 105 | lasa\n",
      "Processing Record 106 | ciudad bolivar\n",
      "Processing Record 107 | salto\n",
      "Processing Record 108 | cockburn town\n",
      "Processing Record 109 | east london\n",
      "Processing Record 110 | kirakira\n",
      "Processing Record 111 | mehamn\n",
      "Processing Record 112 | sioux lookout\n",
      "Processing Record 113 | naftah\n",
      "City not found. Skipping...\n",
      "Processing Record 114 | port alfred\n",
      "Processing Record 115 | qaanaaq\n",
      "Processing Record 116 | new norfolk\n",
      "Processing Record 117 | krasnyy chikoy\n",
      "Processing Record 118 | cidreira\n",
      "Processing Record 119 | mastic beach\n",
      "Processing Record 120 | tawau\n",
      "Processing Record 121 | yellowknife\n",
      "Processing Record 122 | merauke\n",
      "Processing Record 123 | xique-xique\n",
      "Processing Record 124 | itoman\n",
      "Processing Record 125 | viedma\n",
      "Processing Record 126 | torbay\n",
      "Processing Record 127 | amderma\n",
      "City not found. Skipping...\n",
      "Processing Record 128 | ordzhonikidze\n",
      "Processing Record 129 | thompson\n",
      "Processing Record 130 | korla\n",
      "City not found. Skipping...\n",
      "Processing Record 131 | kodiak\n",
      "Processing Record 132 | chippewa falls\n",
      "Processing Record 133 | kamenskoye\n",
      "City not found. Skipping...\n",
      "Processing Record 134 | lesozavodsk\n",
      "Processing Record 135 | mangrol\n",
      "Processing Record 136 | husavik\n",
      "Processing Record 137 | kohlu\n",
      "Processing Record 138 | puerto ayora\n",
      "Processing Record 139 | temaraia\n",
      "City not found. Skipping...\n",
      "Processing Record 140 | pocoes\n",
      "Processing Record 141 | tsihombe\n",
      "City not found. Skipping...\n",
      "Processing Record 142 | antalaha\n",
      "Processing Record 143 | castro\n",
      "Processing Record 144 | lavrentiya\n",
      "Processing Record 145 | pangody\n",
      "Processing Record 146 | wulanhaote\n",
      "City not found. Skipping...\n",
      "Processing Record 147 | salalah\n",
      "Processing Record 148 | filadelfia\n",
      "Processing Record 149 | wahran\n",
      "City not found. Skipping...\n",
      "Processing Record 150 | bengkulu\n",
      "City not found. Skipping...\n",
      "Processing Record 151 | panique\n",
      "Processing Record 152 | portland\n",
      "Processing Record 153 | prenzlau\n",
      "Processing Record 154 | balkanabat\n",
      "Processing Record 155 | xinzhi\n",
      "Processing Record 156 | lisakovsk\n",
      "Processing Record 157 | laibin\n",
      "Processing Record 158 | asfi\n",
      "City not found. Skipping...\n",
      "Processing Record 159 | north bend\n",
      "Processing Record 160 | teguldet\n",
      "Processing Record 161 | shingu\n",
      "Processing Record 162 | ouesso\n",
      "Processing Record 163 | samusu\n",
      "City not found. Skipping...\n",
      "Processing Record 164 | noumea\n",
      "Processing Record 165 | labuan\n",
      "Processing Record 166 | nanortalik\n",
      "Processing Record 167 | barentsburg\n",
      "City not found. Skipping...\n",
      "Processing Record 168 | loreto\n",
      "Processing Record 169 | zhanaozen\n",
      "Processing Record 170 | bargal\n",
      "City not found. Skipping...\n",
      "Processing Record 171 | wajima\n",
      "Processing Record 172 | furano\n",
      "Processing Record 173 | neiafu\n",
      "Processing Record 174 | haines junction\n",
      "Processing Record 175 | kpandu\n",
      "Processing Record 176 | camacha\n",
      "Processing Record 177 | pangai\n",
      "Processing Record 178 | bredasdorp\n",
      "Processing Record 179 | sorvag\n",
      "City not found. Skipping...\n",
      "Processing Record 180 | grand river south east\n",
      "City not found. Skipping...\n",
      "Processing Record 181 | grindavik\n",
      "Processing Record 182 | codrington\n",
      "Processing Record 183 | port elizabeth\n",
      "Processing Record 184 | paka\n",
      "Processing Record 185 | pisco\n",
      "Processing Record 186 | mount gambier\n",
      "Processing Record 187 | iqaluit\n",
      "Processing Record 188 | ibra\n",
      "Processing Record 189 | srednekolymsk\n",
      "Processing Record 190 | umea\n",
      "Processing Record 191 | san buenaventura\n",
      "Processing Record 192 | achacachi\n",
      "Processing Record 193 | kavaratti\n",
      "Processing Record 194 | siteki\n",
      "Processing Record 195 | isangel\n",
      "Processing Record 196 | constantine\n",
      "Processing Record 197 | los llanos de aridane\n",
      "Processing Record 198 | tiksi\n",
      "Processing Record 199 | raudeberg\n",
      "Processing Record 200 | mangaratiba\n",
      "Processing Record 201 | margate\n",
      "Processing Record 202 | road town\n",
      "Processing Record 203 | soe\n",
      "Processing Record 204 | paamiut\n",
      "Processing Record 205 | shieli\n",
      "Processing Record 206 | seoul\n",
      "Processing Record 207 | guerrero negro\n",
      "Processing Record 208 | porto novo\n",
      "Processing Record 209 | beringovskiy\n",
      "Processing Record 210 | bolungarvik\n",
      "City not found. Skipping...\n",
      "Processing Record 211 | pangnirtung\n",
      "Processing Record 212 | axim\n",
      "Processing Record 213 | lata\n",
      "Processing Record 214 | yarada\n",
      "Processing Record 215 | sinazongwe\n",
      "Processing Record 216 | malchin\n",
      "Processing Record 217 | copiapo\n",
      "Processing Record 218 | toliary\n",
      "City not found. Skipping...\n",
      "Processing Record 219 | boa vista\n",
      "Processing Record 220 | katsuura\n",
      "Processing Record 221 | mangai\n",
      "Processing Record 222 | belmonte\n",
      "Processing Record 223 | bairiki\n",
      "City not found. Skipping...\n",
      "Processing Record 224 | mucuri\n",
      "Processing Record 225 | veraval\n",
      "Processing Record 226 | basoko\n",
      "Processing Record 227 | longyearbyen\n",
      "Processing Record 228 | chirongui\n",
      "Processing Record 229 | ocampo\n"
     ]
    },
    {
     "name": "stdout",
     "output_type": "stream",
     "text": [
      "Processing Record 230 | glendive\n",
      "Processing Record 231 | kruisfontein\n",
      "Processing Record 232 | mys shmidta\n",
      "City not found. Skipping...\n",
      "Processing Record 233 | emmett\n",
      "Processing Record 234 | kapaa\n",
      "Processing Record 235 | belushya guba\n",
      "City not found. Skipping...\n",
      "Processing Record 236 | araouane\n",
      "Processing Record 237 | elbistan\n",
      "Processing Record 238 | ostersund\n",
      "Processing Record 239 | ayutla\n",
      "Processing Record 240 | hearst\n",
      "Processing Record 241 | talara\n",
      "Processing Record 242 | jeremie\n",
      "Processing Record 243 | humaita\n",
      "Processing Record 244 | maple creek\n",
      "Processing Record 245 | port lincoln\n",
      "Processing Record 246 | sao pedro do sul\n",
      "Processing Record 247 | bandarbeyla\n",
      "Processing Record 248 | birao\n",
      "Processing Record 249 | beloomut\n",
      "Processing Record 250 | goryachegorsk\n",
      "Processing Record 251 | westport\n",
      "Processing Record 252 | khatanga\n",
      "Processing Record 253 | pierre\n",
      "Processing Record 254 | severnyy\n",
      "City not found. Skipping...\n",
      "Processing Record 255 | laguna\n",
      "Processing Record 256 | kupang\n",
      "Processing Record 257 | namibe\n",
      "Processing Record 258 | kingsport\n",
      "Processing Record 259 | mugur-aksy\n",
      "Processing Record 260 | rio gallegos\n",
      "Processing Record 261 | mayo\n",
      "Processing Record 262 | yenagoa\n",
      "Processing Record 263 | ugoofaaru\n",
      "Processing Record 264 | jaque\n",
      "City not found. Skipping...\n",
      "Processing Record 265 | beatrice\n",
      "Processing Record 266 | dukat\n",
      "Processing Record 267 | sinnamary\n",
      "Processing Record 268 | temiscaming\n",
      "Processing Record 269 | aklavik\n",
      "Processing Record 270 | puerto colombia\n",
      "Processing Record 271 | vestmannaeyjar\n",
      "Processing Record 272 | upata\n",
      "Processing Record 273 | nam som\n",
      "Processing Record 274 | rawson\n",
      "Processing Record 275 | isny\n",
      "City not found. Skipping...\n",
      "Processing Record 276 | paranhos\n",
      "Processing Record 277 | cabedelo\n",
      "Processing Record 278 | orapa\n",
      "Processing Record 279 | souillac\n",
      "Processing Record 280 | nanga eboko\n",
      "Processing Record 281 | cherskiy\n",
      "Processing Record 282 | nueva loja\n",
      "Processing Record 283 | port hardy\n",
      "Processing Record 284 | sentyabrskiy\n",
      "City not found. Skipping...\n",
      "Processing Record 285 | half moon bay\n",
      "Processing Record 286 | chuy\n",
      "Processing Record 287 | sabzevar\n",
      "Processing Record 288 | quatre cocos\n",
      "Processing Record 289 | marcona\n",
      "City not found. Skipping...\n",
      "Processing Record 290 | yanam\n",
      "Processing Record 291 | barrow\n",
      "Processing Record 292 | komsomolskiy\n",
      "Processing Record 293 | taoudenni\n",
      "Processing Record 294 | eureka\n",
      "Processing Record 295 | mataram\n",
      "Processing Record 296 | sitka\n",
      "Processing Record 297 | naze\n",
      "Processing Record 298 | pokrovsk-uralskiy\n",
      "City not found. Skipping...\n",
      "Processing Record 299 | mae sai\n",
      "Processing Record 300 | havelock\n",
      "Processing Record 301 | tecpatan\n",
      "Processing Record 302 | sola\n",
      "Processing Record 303 | ilulissat\n",
      "Processing Record 304 | plouzane\n",
      "Processing Record 305 | cavalcante\n",
      "Processing Record 306 | semey\n",
      "Processing Record 307 | penukonda\n",
      "Processing Record 308 | batemans bay\n",
      "Processing Record 309 | aksarka\n",
      "Processing Record 310 | linxia\n",
      "Processing Record 311 | yulara\n",
      "Processing Record 312 | samoded\n",
      "Processing Record 313 | ust-tsilma\n",
      "Processing Record 314 | puerto escondido\n",
      "Processing Record 315 | yumen\n",
      "Processing Record 316 | salinas\n",
      "Processing Record 317 | hilo\n",
      "Processing Record 318 | tuktoyaktuk\n",
      "Processing Record 319 | ngukurr\n",
      "City not found. Skipping...\n",
      "Processing Record 320 | belem\n",
      "Processing Record 321 | muros\n",
      "Processing Record 322 | cabo san lucas\n",
      "Processing Record 323 | tonaya\n",
      "Processing Record 324 | rayong\n",
      "Processing Record 325 | provideniya\n",
      "Processing Record 326 | kununurra\n",
      "Processing Record 327 | ketchikan\n",
      "Processing Record 328 | kolaras\n",
      "Processing Record 329 | rocha\n",
      "Processing Record 330 | casambalangan\n",
      "Processing Record 331 | hambantota\n",
      "Processing Record 332 | hervey bay\n",
      "Processing Record 333 | takanosu\n",
      "Processing Record 334 | pevek\n",
      "Processing Record 335 | takoradi\n",
      "Processing Record 336 | terrace\n",
      "Processing Record 337 | chapais\n",
      "Processing Record 338 | murray bridge\n",
      "Processing Record 339 | mount pleasant\n",
      "Processing Record 340 | moguer\n",
      "Processing Record 341 | maniitsoq\n",
      "Processing Record 342 | vao\n",
      "Processing Record 343 | antequera\n",
      "Processing Record 344 | snasa\n",
      "Processing Record 345 | palabuhanratu\n",
      "City not found. Skipping...\n",
      "Processing Record 346 | koson\n",
      "Processing Record 347 | hualmay\n",
      "Processing Record 348 | tommot\n",
      "Processing Record 349 | conde\n",
      "Processing Record 350 | neyshabur\n",
      "Processing Record 351 | lebu\n",
      "Processing Record 352 | san quintin\n",
      "Processing Record 353 | bubaque\n",
      "Processing Record 354 | yatou\n",
      "Processing Record 355 | jalu\n",
      "Processing Record 356 | charlottesville\n",
      "Processing Record 357 | opuwo\n",
      "Processing Record 358 | touros\n",
      "Processing Record 359 | trapani\n",
      "Processing Record 360 | sarkand\n",
      "Processing Record 361 | fez\n",
      "Processing Record 362 | esperance\n",
      "Processing Record 363 | kieta\n",
      "Processing Record 364 | easton\n",
      "Processing Record 365 | cairns\n",
      "Processing Record 366 | shubarkuduk\n",
      "Processing Record 367 | union\n",
      "Processing Record 368 | tigil\n",
      "Processing Record 369 | airai\n",
      "Processing Record 370 | olafsvik\n",
      "City not found. Skipping...\n",
      "Processing Record 371 | saleaula\n",
      "City not found. Skipping...\n",
      "Processing Record 372 | dunedin\n",
      "Processing Record 373 | gao\n",
      "Processing Record 374 | qandahar\n",
      "City not found. Skipping...\n",
      "Processing Record 375 | conceicao do araguaia\n",
      "Processing Record 376 | mingshui\n",
      "Processing Record 377 | vila franca do campo\n",
      "Processing Record 378 | dingle\n",
      "Processing Record 379 | umba\n",
      "Processing Record 380 | kharan\n",
      "Processing Record 381 | sangmelima\n",
      "Processing Record 382 | bure\n",
      "Processing Record 383 | hoquiam\n",
      "Processing Record 384 | karamea\n",
      "City not found. Skipping...\n",
      "Processing Record 385 | ijaki\n",
      "City not found. Skipping...\n",
      "Processing Record 386 | heihe\n",
      "Processing Record 387 | auki\n",
      "Processing Record 388 | newton\n",
      "Processing Record 389 | norilsk\n",
      "Processing Record 390 | celestun\n",
      "Processing Record 391 | kaitangata\n",
      "Processing Record 392 | kassala\n",
      "Processing Record 393 | padang\n",
      "Processing Record 394 | saint anthony\n",
      "Processing Record 395 | guilin\n",
      "Processing Record 396 | tezu\n",
      "Processing Record 397 | vardo\n",
      "Processing Record 398 | vostok\n",
      "Processing Record 399 | bathsheba\n",
      "Processing Record 400 | christchurch\n",
      "Processing Record 401 | bambous virieux\n",
      "Processing Record 402 | bhan\n",
      "Processing Record 403 | pesqueria\n",
      "Processing Record 404 | kedrovyy\n",
      "Processing Record 405 | peniche\n",
      "Processing Record 406 | pokhara\n",
      "Processing Record 407 | burlington\n",
      "Processing Record 408 | pak phanang\n",
      "Processing Record 409 | galesong\n",
      "Processing Record 410 | laredo\n",
      "Processing Record 411 | ridgecrest\n",
      "Processing Record 412 | lompoc\n",
      "Processing Record 413 | dawei\n",
      "Processing Record 414 | maloshuyka\n",
      "City not found. Skipping...\n",
      "Processing Record 415 | alihe\n",
      "Processing Record 416 | valparaiso\n",
      "Processing Record 417 | maputo\n",
      "Processing Record 418 | san bartolome de tirajana\n",
      "City not found. Skipping...\n",
      "Processing Record 419 | sal rei\n",
      "Processing Record 420 | locri\n",
      "Processing Record 421 | barkhan\n",
      "Processing Record 422 | tagusao\n",
      "Processing Record 423 | gornopravdinsk\n",
      "Processing Record 424 | winchester\n",
      "Processing Record 425 | bonavista\n",
      "Processing Record 426 | moose factory\n",
      "Processing Record 427 | saint-pierre\n",
      "Processing Record 428 | chernyshevskiy\n",
      "Processing Record 429 | faya\n",
      "Processing Record 430 | shibarghan\n",
      "City not found. Skipping...\n",
      "Processing Record 431 | dakar\n",
      "Processing Record 432 | sistranda\n",
      "Processing Record 433 | jiuquan\n",
      "Processing Record 434 | attawapiskat\n",
      "City not found. Skipping...\n",
      "Processing Record 435 | kimberley\n",
      "Processing Record 436 | victor harbor\n",
      "Processing Record 437 | port blair\n",
      "Processing Record 438 | bilibino\n",
      "Processing Record 439 | cervo\n",
      "Processing Record 440 | le port\n",
      "Processing Record 441 | chambas\n",
      "Processing Record 442 | kropotkin\n",
      "Processing Record 443 | acapulco\n",
      "Processing Record 444 | yeletskiy\n",
      "City not found. Skipping...\n",
      "Processing Record 445 | visnes\n",
      "Processing Record 446 | palu\n",
      "Processing Record 447 | thai nguyen\n",
      "Processing Record 448 | tubruq\n",
      "City not found. Skipping...\n",
      "Processing Record 449 | cap-aux-meules\n",
      "Processing Record 450 | ambilobe\n",
      "Processing Record 451 | vaitupu\n",
      "City not found. Skipping...\n",
      "Processing Record 452 | ambodifototra\n",
      "City not found. Skipping...\n",
      "Processing Record 453 | bac lieu\n",
      "City not found. Skipping...\n",
      "Processing Record 454 | college\n",
      "Processing Record 455 | tongliao\n",
      "Processing Record 456 | karauzyak\n",
      "City not found. Skipping...\n",
      "Processing Record 457 | venado tuerto\n"
     ]
    },
    {
     "name": "stdout",
     "output_type": "stream",
     "text": [
      "Processing Record 458 | meulaboh\n",
      "Processing Record 459 | peterhead\n",
      "Processing Record 460 | grand gaube\n",
      "Processing Record 461 | champerico\n",
      "Processing Record 462 | kiruna\n",
      "Processing Record 463 | maceio\n",
      "Processing Record 464 | homer\n",
      "Processing Record 465 | ahar\n",
      "Processing Record 466 | sivaki\n",
      "Processing Record 467 | wanning\n",
      "Processing Record 468 | malartic\n",
      "Processing Record 469 | sechura\n",
      "Processing Record 470 | meyungs\n",
      "City not found. Skipping...\n",
      "Processing Record 471 | tucuman\n",
      "Processing Record 472 | flinders\n",
      "Processing Record 473 | ahuimanu\n",
      "Processing Record 474 | macheng\n",
      "Processing Record 475 | sainte-marie\n",
      "Processing Record 476 | kilakarai\n",
      "City not found. Skipping...\n",
      "Processing Record 477 | chapleau\n",
      "Processing Record 478 | miajadas\n",
      "Processing Record 479 | coihaique\n",
      "Processing Record 480 | kimry\n",
      "Processing Record 481 | greensburg\n",
      "Processing Record 482 | tumannyy\n",
      "City not found. Skipping...\n",
      "Processing Record 483 | batagay-alyta\n",
      "Processing Record 484 | vakhrushev\n",
      "Processing Record 485 | puerto gaitan\n",
      "City not found. Skipping...\n",
      "Processing Record 486 | ukiah\n",
      "Processing Record 487 | lalomanu\n",
      "City not found. Skipping...\n",
      "Processing Record 488 | monrovia\n",
      "Processing Record 489 | prien\n",
      "Processing Record 490 | safaga\n",
      "City not found. Skipping...\n",
      "Processing Record 491 | mezen\n",
      "Processing Record 492 | wenatchee\n",
      "Processing Record 493 | manga\n",
      "Processing Record 494 | albi\n",
      "Processing Record 495 | mapiripan\n",
      "Processing Record 496 | santa isabel\n",
      "Processing Record 497 | nelson bay\n",
      "Processing Record 498 | honningsvag\n",
      "Processing Record 499 | high level\n",
      "Processing Record 500 | lagoa\n",
      "Processing Record 501 | mayumba\n",
      "Processing Record 502 | dalmeny\n",
      "Processing Record 503 | tacuarembo\n",
      "Processing Record 504 | sarangani\n",
      "Processing Record 505 | napa\n",
      "Processing Record 506 | kletskaya\n",
      "Processing Record 507 | puerto penasco\n",
      "Processing Record 508 | ramhormoz\n",
      "Processing Record 509 | canton\n",
      "Processing Record 510 | shelburne\n",
      "Processing Record 511 | zaysan\n",
      "Processing Record 512 | omsukchan\n",
      "Processing Record 513 | arica\n",
      "Processing Record 514 | havre-saint-pierre\n",
      "Processing Record 515 | phulji\n",
      "Processing Record 516 | vilhena\n",
      "Processing Record 517 | willowmore\n",
      "Processing Record 518 | burica\n",
      "City not found. Skipping...\n",
      "Processing Record 519 | haimen\n",
      "Processing Record 520 | mahaicony\n",
      "City not found. Skipping...\n",
      "Processing Record 521 | teya\n",
      "Processing Record 522 | praia da vitoria\n",
      "Processing Record 523 | yemtsa\n",
      "Processing Record 524 | gazojak\n",
      "Processing Record 525 | pitelino\n",
      "Processing Record 526 | chinhoyi\n",
      "Processing Record 527 | gravdal\n",
      "Processing Record 528 | tokur\n",
      "Processing Record 529 | adrar\n",
      "Processing Record 530 | shaunavon\n",
      "Processing Record 531 | chagda\n",
      "City not found. Skipping...\n",
      "Processing Record 532 | puerto leguizamo\n",
      "Processing Record 533 | west wendover\n",
      "Processing Record 534 | kendallville\n",
      "Processing Record 535 | te anau\n",
      "Processing Record 536 | beian\n",
      "Processing Record 537 | kasaragod\n",
      "Processing Record 538 | salinopolis\n",
      "Processing Record 539 | pachino\n",
      "Processing Record 540 | mrirt\n",
      "City not found. Skipping...\n",
      "Processing Record 541 | salym\n",
      "Processing Record 542 | angoche\n",
      "Processing Record 543 | skibbereen\n",
      "Processing Record 544 | ejea de los caballeros\n",
      "Processing Record 545 | saint-augustin\n",
      "Processing Record 546 | piacabucu\n",
      "Processing Record 547 | southbridge\n",
      "Processing Record 548 | pathein\n",
      "Processing Record 549 | kungurtug\n",
      "Processing Record 550 | marsh harbour\n",
      "Processing Record 551 | oksfjord\n",
      "Processing Record 552 | san antonio\n",
      "Processing Record 553 | mogadishu\n",
      "Processing Record 554 | giyani\n",
      "Processing Record 555 | saint george\n",
      "Processing Record 556 | pajapan\n",
      "Processing Record 557 | juba\n",
      "Processing Record 558 | mount isa\n",
      "Processing Record 559 | kafr sawm\n",
      "Processing Record 560 | joson\n",
      "Processing Record 561 | gorontalo\n",
      "Processing Record 562 | toftir\n",
      "City not found. Skipping...\n",
      "Processing Record 563 | robore\n",
      "Processing Record 564 | helong\n",
      "Processing Record 565 | urdzhar\n",
      "City not found. Skipping...\n",
      "Processing Record 566 | gat\n",
      "Processing Record 567 | waipawa\n",
      "Processing Record 568 | olinda\n",
      "Processing Record 569 | awbari\n",
      "Processing Record 570 | kattivakkam\n",
      "Processing Record 571 | doha\n",
      "Processing Record 572 | gijon\n",
      "Processing Record 573 | baijiantan\n",
      "Processing Record 574 | coos bay\n",
      "Processing Record 575 | guaraniacu\n",
      "Processing Record 576 | ariquemes\n",
      "Processing Record 577 | yeppoon\n",
      "Processing Record 578 | matagami\n",
      "Processing Record 579 | klaksvik\n",
      "Processing Record 580 | bengkalis\n",
      "City not found. Skipping...\n",
      "Processing Record 581 | jilib\n",
      "Processing Record 582 | koygorodok\n",
      "Processing Record 583 | imbituba\n",
      "Processing Record 584 | casimiro de abreu\n",
      "Processing Record 585 | chicama\n",
      "Processing Record 586 | moron\n",
      "Processing Record 587 | sertanopolis\n",
      "Processing Record 588 | seymchan\n",
      "Processing Record 589 | biaora\n",
      "Processing Record 590 | soller\n",
      "Processing Record 591 | taltal\n",
      "Processing Record 592 | yaan\n",
      "Processing Record 593 | acari\n",
      "Processing Record 594 | nishihara\n",
      "Processing Record 595 | kutum\n",
      "Processing Record 596 | irituia\n",
      "Processing Record 597 | villamontes\n",
      "Processing Record 598 | sao filipe\n",
      "Processing Record 599 | ola\n",
      "Processing Record 600 | carmen\n",
      "Processing Record 601 | atar\n",
      "Processing Record 602 | talnakh\n",
      "Processing Record 603 | fort nelson\n",
      "Processing Record 604 | imeni stepana razina\n",
      "Processing Record 605 | udayagiri\n",
      "Processing Record 606 | marienburg\n",
      "Processing Record 607 | rio grande\n",
      "Processing Record 608 | nyurba\n",
      "Processing Record 609 | hobyo\n",
      "Processing Record 610 | severo-yeniseyskiy\n",
      "Processing Record 611 | marsa matruh\n",
      "Processing Record 612 | kawana waters\n",
      "City not found. Skipping...\n",
      "-------------------------\n",
      "Data Retrieval Complete \n",
      "-------------------------\n"
     ]
    }
   ],
   "source": [
    "url = \"http://api.openweathermap.org/data/2.5/weather?\"\n",
    "units = \"imperial\"\n",
    "\n",
    "query_url = f\"{url}appid={weather_api_key}\"\n",
    "\n",
    "city_info = []\n",
    "record_count = 0\n",
    "set_count = 1\n",
    "\n",
    "print(\"Beginning Data Retrieval\")\n",
    "\n",
    "for city in cities:\n",
    "    set_count += 1\n",
    "    city_url = query_url + \"&q=\" + city\n",
    "    record_count += 1\n",
    "    print(\"Processing Record %s | %s\" % (record_count, city))\n",
    "    \n",
    "    try:\n",
    "        city_weather = requests.get(city_url).json()\n",
    "        city_clouds = city_weather[\"clouds\"][\"all\"]\n",
    "        city_country = city_weather[\"sys\"][\"country\"]      \n",
    "        city_date = city_weather[\"dt\"]      \n",
    "        city_humidity = city_weather[\"main\"][\"humidity\"]      \n",
    "        city_lat = city_weather[\"coord\"][\"lat\"]\n",
    "        city_lng = city_weather[\"coord\"][\"lon\"]\n",
    "        city_max_temp = city_weather[\"main\"][\"temp_max\"]\n",
    "        city_wind = city_weather[\"wind\"][\"speed\"]\n",
    "        \n",
    "        city_info.append({\"City\": city,\"Lat\": city_lat,\"Lng\": city_lng,\"Max Temp\": city_max_temp, \"Humidity\": city_humidity,\n",
    "                          \"Cloudiness\": city_clouds,\"Wind Speed\": city_wind,\"Country\": city_country,\"Date\": city_date})\n",
    "    except:\n",
    "        print(\"City not found. Skipping...\")\n",
    "        pass\n",
    "               \n",
    "print(\"-------------------------\")\n",
    "print(\"Data Retrieval Complete \")\n",
    "print(\"-------------------------\")"
   ]
  },
  {
   "cell_type": "markdown",
   "metadata": {},
   "source": [
    "### Perform API Calls\n",
    "* Perform a weather check on each city using a series of successive API calls.\n",
    "* Include a print log of each city as it'sbeing processed (with the city number and city name).\n"
   ]
  },
  {
   "cell_type": "markdown",
   "metadata": {},
   "source": [
    "### Convert Raw Data to DataFrame\n",
    "* Export the city data into a .csv.\n",
    "* Display the DataFrame"
   ]
  },
  {
   "cell_type": "code",
   "execution_count": 6,
   "metadata": {},
   "outputs": [
    {
     "data": {
      "text/plain": [
       "City          550\n",
       "Cloudiness    550\n",
       "Country       550\n",
       "Date          550\n",
       "Humidity      550\n",
       "Lat           550\n",
       "Lng           550\n",
       "Max Temp      550\n",
       "Wind Speed    550\n",
       "dtype: int64"
      ]
     },
     "execution_count": 6,
     "metadata": {},
     "output_type": "execute_result"
    }
   ],
   "source": [
    "city_info_df = pd.DataFrame(city_info)\n",
    "\n",
    "cloudiness = city_info_df[\"Cloudiness\"]\n",
    "humidity = city_info_df[\"Humidity\"]\n",
    "lat = city_info_df[\"Lat\"]\n",
    "lng = city_info_df[\"Lng\"]\n",
    "max_temp = city_info_df[\"Max Temp\"]\n",
    "wind_speed = city_info_df[\"Wind Speed\"]\n",
    "\n",
    "city_info_df.count()"
   ]
  },
  {
   "cell_type": "code",
   "execution_count": 8,
   "metadata": {},
   "outputs": [
    {
     "data": {
      "text/html": [
       "<div>\n",
       "<style scoped>\n",
       "    .dataframe tbody tr th:only-of-type {\n",
       "        vertical-align: middle;\n",
       "    }\n",
       "\n",
       "    .dataframe tbody tr th {\n",
       "        vertical-align: top;\n",
       "    }\n",
       "\n",
       "    .dataframe thead th {\n",
       "        text-align: right;\n",
       "    }\n",
       "</style>\n",
       "<table border=\"1\" class=\"dataframe\">\n",
       "  <thead>\n",
       "    <tr style=\"text-align: right;\">\n",
       "      <th></th>\n",
       "      <th>City</th>\n",
       "      <th>Cloudiness</th>\n",
       "      <th>Country</th>\n",
       "      <th>Date</th>\n",
       "      <th>Humidity</th>\n",
       "      <th>Lat</th>\n",
       "      <th>Lng</th>\n",
       "      <th>Max Temp</th>\n",
       "      <th>Wind Speed</th>\n",
       "    </tr>\n",
       "  </thead>\n",
       "  <tbody>\n",
       "    <tr>\n",
       "      <th>0</th>\n",
       "      <td>narsaq</td>\n",
       "      <td>9</td>\n",
       "      <td>GL</td>\n",
       "      <td>1570674748</td>\n",
       "      <td>69</td>\n",
       "      <td>60.91</td>\n",
       "      <td>-46.05</td>\n",
       "      <td>275.15</td>\n",
       "      <td>2.401</td>\n",
       "    </tr>\n",
       "    <tr>\n",
       "      <th>1</th>\n",
       "      <td>angoram</td>\n",
       "      <td>100</td>\n",
       "      <td>PG</td>\n",
       "      <td>1570674748</td>\n",
       "      <td>77</td>\n",
       "      <td>-4.06</td>\n",
       "      <td>144.07</td>\n",
       "      <td>302.61</td>\n",
       "      <td>1.640</td>\n",
       "    </tr>\n",
       "    <tr>\n",
       "      <th>2</th>\n",
       "      <td>boca do acre</td>\n",
       "      <td>100</td>\n",
       "      <td>BR</td>\n",
       "      <td>1570674748</td>\n",
       "      <td>88</td>\n",
       "      <td>-8.76</td>\n",
       "      <td>-67.39</td>\n",
       "      <td>295.83</td>\n",
       "      <td>0.573</td>\n",
       "    </tr>\n",
       "    <tr>\n",
       "      <th>3</th>\n",
       "      <td>ust-kuyga</td>\n",
       "      <td>99</td>\n",
       "      <td>RU</td>\n",
       "      <td>1570674748</td>\n",
       "      <td>91</td>\n",
       "      <td>70.00</td>\n",
       "      <td>135.55</td>\n",
       "      <td>258.18</td>\n",
       "      <td>2.540</td>\n",
       "    </tr>\n",
       "    <tr>\n",
       "      <th>4</th>\n",
       "      <td>coquimbo</td>\n",
       "      <td>75</td>\n",
       "      <td>CL</td>\n",
       "      <td>1570674618</td>\n",
       "      <td>87</td>\n",
       "      <td>-29.95</td>\n",
       "      <td>-71.34</td>\n",
       "      <td>290.37</td>\n",
       "      <td>2.100</td>\n",
       "    </tr>\n",
       "  </tbody>\n",
       "</table>\n",
       "</div>"
      ],
      "text/plain": [
       "           City  Cloudiness Country        Date  Humidity    Lat     Lng  \\\n",
       "0        narsaq           9      GL  1570674748        69  60.91  -46.05   \n",
       "1       angoram         100      PG  1570674748        77  -4.06  144.07   \n",
       "2  boca do acre         100      BR  1570674748        88  -8.76  -67.39   \n",
       "3     ust-kuyga          99      RU  1570674748        91  70.00  135.55   \n",
       "4      coquimbo          75      CL  1570674618        87 -29.95  -71.34   \n",
       "\n",
       "   Max Temp  Wind Speed  \n",
       "0    275.15       2.401  \n",
       "1    302.61       1.640  \n",
       "2    295.83       0.573  \n",
       "3    258.18       2.540  \n",
       "4    290.37       2.100  "
      ]
     },
     "execution_count": 8,
     "metadata": {},
     "output_type": "execute_result"
    }
   ],
   "source": [
    "city_info_df.head()"
   ]
  },
  {
   "cell_type": "code",
   "execution_count": 9,
   "metadata": {},
   "outputs": [],
   "source": [
    "city_info_df.to_csv(r'WeatherPyExport.csv')"
   ]
  },
  {
   "cell_type": "markdown",
   "metadata": {},
   "source": [
    "### Plotting the Data\n",
    "* Use proper labeling of the plots using plot titles (including date of analysis) and axes labels.\n",
    "* Save the plotted figures as .pngs."
   ]
  },
  {
   "cell_type": "markdown",
   "metadata": {},
   "source": [
    "#### Latitude vs. Temperature Plot"
   ]
  },
  {
   "cell_type": "code",
   "execution_count": 10,
   "metadata": {
    "scrolled": true
   },
   "outputs": [
    {
     "data": {
      "image/png": "[encoded data removed]",
      "text/plain": [
       "<Figure size 432x288 with 1 Axes>"
      ]
     },
     "metadata": {
      "needs_background": "light"
     },
     "output_type": "display_data"
    }
   ],
   "source": [
    "plt.scatter(lat,max_temp,label=\"Cities\")\n",
    "plt.title(\"City Latitude vs. Max Temperature\")\n",
    "plt.ylabel(\"Max Temperature (F)\")\n",
    "plt.xlabel(\"Latitude\")\n",
    "plt.grid()\n",
    "plt.show()\n",
    "plt.savefig(\"fig1.png\")"
   ]
  },
  {
   "cell_type": "markdown",
   "metadata": {},
   "source": [
    "#### Latitude vs. Humidity Plot"
   ]
  },
  {
   "cell_type": "code",
   "execution_count": 11,
   "metadata": {},
   "outputs": [
    {
     "data": {
      "image/png": "[encoded data removed]",
      "text/plain": [
       "<Figure size 432x288 with 1 Axes>"
      ]
     },
     "metadata": {
      "needs_background": "light"
     },
     "output_type": "display_data"
    }
   ],
   "source": [
    "plt.scatter(lat,humidity,label=\"Cities\")\n",
    "plt.title(\"City Latitude vs. Humidity\")\n",
    "plt.ylabel(\"Humidity (%)\")\n",
    "plt.xlabel(\"Latitude\")\n",
    "plt.grid()\n",
    "plt.show()\n",
    "plt.savefig(\"fig2.png\")"
   ]
  },
  {
   "cell_type": "markdown",
   "metadata": {},
   "source": [
    "#### Latitude vs. Cloudiness Plot"
   ]
  },
  {
   "cell_type": "code",
   "execution_count": 12,
   "metadata": {},
   "outputs": [
    {
     "data": {
      "image/png": "[encoded data removed]",
      "text/plain": [
       "<Figure size 432x288 with 1 Axes>"
      ]
     },
     "metadata": {
      "needs_background": "light"
     },
     "output_type": "display_data"
    }
   ],
   "source": [
    "plt.scatter(lat,cloudiness,label=\"Cities\")\n",
    "plt.title(\"City Latitude vs. Cloudiness\")\n",
    "plt.ylabel(\"Cloudiness (%)\")\n",
    "plt.xlabel(\"Latitude\")\n",
    "plt.grid()\n",
    "plt.show()\n",
    "plt.savefig(\"fig3.png\")"
   ]
  },
  {
   "cell_type": "markdown",
   "metadata": {},
   "source": [
    "#### Latitude vs. Wind Speed Plot"
   ]
  },
  {
   "cell_type": "code",
   "execution_count": 13,
   "metadata": {},
   "outputs": [
    {
     "data": {
      "image/png": "[encoded data removed]",
      "text/plain": [
       "<Figure size 432x288 with 1 Axes>"
      ]
     },
     "metadata": {
      "needs_background": "light"
     },
     "output_type": "display_data"
    }
   ],
   "source": [
    "plt.scatter(lat,wind_speed,label=\"Cities\")\n",
    "plt.title(\"City Latitude vs. Wind Speed\")\n",
    "plt.ylabel(\"Wind Speed (mph)\")\n",
    "plt.xlabel(\"Latitude\")\n",
    "plt.grid()\n",
    "plt.show()\n",
    "plt.savefig(\"fig4.png\")"
   ]
  },
  {
   "cell_type": "markdown",
   "metadata": {},
   "source": [
    "## Linear Regression"
   ]
  },
  {
   "cell_type": "code",
   "execution_count": 108,
   "metadata": {},
   "outputs": [],
   "source": [
    "# OPTIONAL: Create a function to create Linear Regression plots\n"
   ]
  },
  {
   "cell_type": "code",
   "execution_count": 18,
   "metadata": {},
   "outputs": [],
   "source": [
    "# Create Northern and Southern Hemisphere DataFrames\n",
    "NorthernHemisphere = city_info_df.loc[(city_info_df[\"Lat\"]>0)]\n",
    "SouthernHemisphere = city_info_df.loc[(city_info_df[\"Lat\"]<0)]\n",
    "\n",
    "N_cloudiness = NorthernHemisphere[\"Cloudiness\"]\n",
    "N_humidity = NorthernHemisphere[\"Humidity\"]\n",
    "N_lat = NorthernHemisphere[\"Lat\"]\n",
    "N_lng = NorthernHemisphere[\"Lng\"]\n",
    "N_max_temp = NorthernHemisphere[\"Max Temp\"]\n",
    "N_wind_speed = NorthernHemisphere[\"Wind Speed\"]\n",
    "\n",
    "S_cloudiness = SouthernHemisphere[\"Cloudiness\"]\n",
    "S_humidity = SouthernHemisphere[\"Humidity\"]\n",
    "S_lat = SouthernHemisphere[\"Lat\"]\n",
    "S_lng = SouthernHemisphere[\"Lng\"]\n",
    "S_max_temp = SouthernHemisphere[\"Max Temp\"]\n",
    "S_wind_speed = SouthernHemisphere[\"Wind Speed\"]"
   ]
  },
  {
   "cell_type": "markdown",
   "metadata": {},
   "source": [
    "####  Northern Hemisphere - Max Temp vs. Latitude Linear Regression"
   ]
  },
  {
   "cell_type": "code",
   "execution_count": 84,
   "metadata": {},
   "outputs": [
    {
     "name": "stdout",
     "output_type": "stream",
     "text": [
      "r-squared: -0.8684944513663149\n"
     ]
    },
    {
     "data": {
      "image/png": "[encoded data removed]",
      "text/plain": [
       "<Figure size 432x288 with 1 Axes>"
      ]
     },
     "metadata": {
      "needs_background": "light"
     },
     "output_type": "display_data"
    },
    {
     "name": "stdout",
     "output_type": "stream",
     "text": [
      "Linear Equation y=-0.49x+306.55\n"
     ]
    }
   ],
   "source": [
    "NTslope, NTintercept, NTr_value, NTp_value, NTstd_err = st.linregress(N_lat,N_max_temp)\n",
    "NTcorrelation = st.pearsonr(N_lat,N_max_temp)\n",
    "print(\"r-squared:\", NTcorrelation[0])\n",
    "\n",
    "plt.scatter(N_lat,N_max_temp)\n",
    "plt.title(\"Max Temperature North vs. City Latitude North\")\n",
    "plt.ylabel(\"Max Temperature (F)\")\n",
    "plt.xlabel(\"Latitude\")\n",
    "plt.plot(N_lat, NTintercept + NTslope*N_lat, 'r')\n",
    "plt.show()\n",
    "\n",
    "print(\"Linear Equation y=\"+str(round(NTslope, 2))+\"x+\"+str(round(NTintercept, 2)))"
   ]
  },
  {
   "cell_type": "markdown",
   "metadata": {},
   "source": [
    "####  Southern Hemisphere - Max Temp vs. Latitude Linear Regression"
   ]
  },
  {
   "cell_type": "code",
   "execution_count": 85,
   "metadata": {},
   "outputs": [
    {
     "name": "stdout",
     "output_type": "stream",
     "text": [
      "r-squared: 0.645701508498153\n"
     ]
    },
    {
     "data": {
      "image/png": "[encoded data removed]",
      "text/plain": [
       "<Figure size 432x288 with 1 Axes>"
      ]
     },
     "metadata": {
      "needs_background": "light"
     },
     "output_type": "display_data"
    },
    {
     "name": "stdout",
     "output_type": "stream",
     "text": [
      "Linear Equation y=0.34x+300.87\n"
     ]
    }
   ],
   "source": [
    "STslope, STintercept, STr_value, STp_value, STstd_err = st.linregress(S_lat,S_max_temp)\n",
    "STcorrelation = st.pearsonr(S_lat,S_max_temp)\n",
    "print(\"r-squared:\", STcorrelation[0])\n",
    "\n",
    "plt.scatter(S_lat,S_max_temp)\n",
    "plt.title(\"Max Temperature South vs. City Latitude South\")\n",
    "plt.ylabel(\"Max Temperature (F)\")\n",
    "plt.xlabel(\"Latitude\")\n",
    "plt.plot(S_lat, STintercept + STslope*S_lat, 'r')\n",
    "plt.show()\n",
    "\n",
    "print(\"Linear Equation y=\"+str(round(STslope, 2))+\"x+\"+str(round(STintercept, 2)))"
   ]
  },
  {
   "cell_type": "markdown",
   "metadata": {},
   "source": [
    "####  Northern Hemisphere - Humidity (%) vs. Latitude Linear Regression"
   ]
  },
  {
   "cell_type": "code",
   "execution_count": 86,
   "metadata": {},
   "outputs": [
    {
     "name": "stdout",
     "output_type": "stream",
     "text": [
      "r-squared: -0.0019781405324947247\n"
     ]
    },
    {
     "data": {
      "image/png": "[encoded data removed]",
      "text/plain": [
       "<Figure size 432x288 with 1 Axes>"
      ]
     },
     "metadata": {
      "needs_background": "light"
     },
     "output_type": "display_data"
    },
    {
     "name": "stdout",
     "output_type": "stream",
     "text": [
      "Linear Equation y=-0.0019x+72.83\n"
     ]
    }
   ],
   "source": [
    "NHslope, NHintercept, NHr_value, NHp_value, NHstd_err = st.linregress(N_lat,N_humidity)\n",
    "NHcorrelation = st.pearsonr(N_lat,N_humidity)\n",
    "print(\"r-squared:\", NHcorrelation[0])\n",
    "\n",
    "plt.scatter(N_lat,N_humidity)\n",
    "plt.title(\"Humidity North vs. City Latitude North\")\n",
    "plt.ylabel(\"Humidity (%)\")\n",
    "plt.xlabel(\"Latitude\")\n",
    "plt.plot(N_lat, NHintercept + NHslope*N_lat, 'r')\n",
    "plt.show()\n",
    "\n",
    "print(\"Linear Equation y=\"+str(round(NHslope, 4))+\"x+\"+str(round(NHintercept, 2)))"
   ]
  },
  {
   "cell_type": "markdown",
   "metadata": {},
   "source": [
    "####  Southern Hemisphere - Humidity (%) vs. Latitude Linear Regression"
   ]
  },
  {
   "cell_type": "code",
   "execution_count": 88,
   "metadata": {},
   "outputs": [
    {
     "name": "stdout",
     "output_type": "stream",
     "text": [
      "r-squared: 0.0603708587213174\n"
     ]
    },
    {
     "data": {
      "image/png": "[encoded data removed]",
      "text/plain": [
       "<Figure size 432x288 with 1 Axes>"
      ]
     },
     "metadata": {
      "needs_background": "light"
     },
     "output_type": "display_data"
    },
    {
     "name": "stdout",
     "output_type": "stream",
     "text": [
      "Linear Equation y=0.09x+71.68\n"
     ]
    }
   ],
   "source": [
    "SHslope, SHintercept, SHr_value, SHp_value, SHstd_err = st.linregress(S_lat,S_humidity)\n",
    "SHcorrelation = st.pearsonr(S_lat,S_humidity)\n",
    "print(\"r-squared:\", SHcorrelation[0])\n",
    "\n",
    "plt.scatter(S_lat,S_humidity)\n",
    "plt.title(\"Humidity South vs. City Latitude South\")\n",
    "plt.ylabel(\"Humidity (%)\")\n",
    "plt.xlabel(\"Latitude\")\n",
    "plt.plot(S_lat, SHintercept + SHslope*S_lat, 'r')\n",
    "plt.show()\n",
    "\n",
    "print(\"Linear Equation y=\"+str(round(SHslope, 2))+\"x+\"+str(round(SHintercept, 2)))"
   ]
  },
  {
   "cell_type": "markdown",
   "metadata": {},
   "source": [
    "####  Northern Hemisphere - Cloudiness (%) vs. Latitude Linear Regression"
   ]
  },
  {
   "cell_type": "code",
   "execution_count": 90,
   "metadata": {},
   "outputs": [
    {
     "name": "stdout",
     "output_type": "stream",
     "text": [
      "r-squared: 0.018857817273389664\n"
     ]
    },
    {
     "data": {
      "image/png": "[encoded data removed]",
      "text/plain": [
       "<Figure size 432x288 with 1 Axes>"
      ]
     },
     "metadata": {
      "needs_background": "light"
     },
     "output_type": "display_data"
    },
    {
     "name": "stdout",
     "output_type": "stream",
     "text": [
      "Linear Equation y=0.04x+47.81\n"
     ]
    }
   ],
   "source": [
    "NCslope, NCintercept, NCr_value, NCp_value, NCstd_err = st.linregress(N_lat,N_cloudiness)\n",
    "NCcorrelation = st.pearsonr(N_lat,N_cloudiness)\n",
    "print(\"r-squared:\", NCcorrelation[0])\n",
    "\n",
    "plt.scatter(N_lat,N_cloudiness)\n",
    "plt.title(\"Cloudness North vs. City Latitude North\")\n",
    "plt.ylabel(\"Cloudiness (%)\")\n",
    "plt.xlabel(\"Latitude\")\n",
    "plt.plot(N_lat, NCintercept + NCslope*N_lat, 'r')\n",
    "plt.show()\n",
    "\n",
    "print(\"Linear Equation y=\"+str(round(NCslope, 2))+\"x+\"+str(round(NCintercept, 2)))"
   ]
  },
  {
   "cell_type": "markdown",
   "metadata": {},
   "source": [
    "####  Southern Hemisphere - Cloudiness (%) vs. Latitude Linear Regression"
   ]
  },
  {
   "cell_type": "code",
   "execution_count": 91,
   "metadata": {},
   "outputs": [
    {
     "name": "stdout",
     "output_type": "stream",
     "text": [
      "r-squared: -0.06581377919533433\n"
     ]
    },
    {
     "data": {
      "image/png": "[encoded data removed]",
      "text/plain": [
       "<Figure size 432x288 with 1 Axes>"
      ]
     },
     "metadata": {
      "needs_background": "light"
     },
     "output_type": "display_data"
    },
    {
     "name": "stdout",
     "output_type": "stream",
     "text": [
      "Linear Equation y=-0.2x+46.25\n"
     ]
    }
   ],
   "source": [
    "SCslope, SCintercept, SCr_value, SCp_value, SCstd_err = st.linregress(S_lat,S_cloudiness)\n",
    "SCcorrelation = st.pearsonr(S_lat,S_cloudiness)\n",
    "print(\"r-squared:\", SCcorrelation[0])\n",
    "\n",
    "plt.scatter(S_lat,S_cloudiness)\n",
    "plt.title(\"Cloudness South vs. City Latitude South\")\n",
    "plt.ylabel(\"Cloudiness (%)\")\n",
    "plt.xlabel(\"Latitude\")\n",
    "plt.plot(S_lat, SCintercept + SCslope*S_lat, 'r')\n",
    "plt.show()\n",
    "\n",
    "print(\"Linear Equation y=\"+str(round(SCslope, 2))+\"x+\"+str(round(SCintercept, 2)))"
   ]
  },
  {
   "cell_type": "markdown",
   "metadata": {},
   "source": [
    "####  Northern Hemisphere - Wind Speed (mph) vs. Latitude Linear Regression"
   ]
  },
  {
   "cell_type": "code",
   "execution_count": 117,
   "metadata": {},
   "outputs": [
    {
     "name": "stdout",
     "output_type": "stream",
     "text": [
      "The r-squared is: 0.1071382774388479\n"
     ]
    },
    {
     "data": {
      "image/png": "[encoded data removed]",
      "text/plain": [
       "<matplotlib.figure.Figure at 0x1a1f4bae48>"
      ]
     },
     "metadata": {},
     "output_type": "display_data"
    }
   ],
   "source": [
    "NWslope, NWintercept, NWr_value, NWp_value, NWstd_err = st.linregress(N_lat,N_wind_speed)\n",
    "NWcorrelation = st.pearsonr(N_lat,N_wind_speed)\n",
    "print(\"r-squared is:\", NWcorrelation[0])\n",
    "\n",
    "plt.scatter(N_lat,N_wind_speed)\n",
    "plt.title(\"Wind Speed North vs. City Latitude North\")\n",
    "plt.ylabel(\"Wind Speed\")\n",
    "plt.xlabel(\"Latitude\")\n",
    "plt.plot(N_lat, NWintercept + NWslope*N_lat, 'r')\n",
    "plt.show()\n",
    "\n",
    "print(\"Linear Equation y=\"+str(round(NWslope, 2))+\"x+\"+str(round(NWintercept, 2)))"
   ]
  },
  {
   "cell_type": "markdown",
   "metadata": {},
   "source": [
    "####  Southern Hemisphere - Wind Speed (mph) vs. Latitude Linear Regression"
   ]
  },
  {
   "cell_type": "code",
   "execution_count": 116,
   "metadata": {},
   "outputs": [
    {
     "name": "stdout",
     "output_type": "stream",
     "text": [
      "The r-squared is: -0.322483077139538\n"
     ]
    },
    {
     "data": {
      "image/png": "[encoded data removed]",
      "text/plain": [
       "<matplotlib.figure.Figure at 0x1a212ed940>"
      ]
     },
     "metadata": {},
     "output_type": "display_data"
    }
   ],
   "source": [
    "SWslope, SWintercept, SWr_value, SWp_value, SWstd_err = st.linregress(S_lat,S_wind_speed)\n",
    "SWcorrelation = st.pearsonr(S_lat,S_wind_speed)\n",
    "print(\"r-squared is:\", SWcorrelation[0])\n",
    "\n",
    "plt.scatter(S_lat,S_wind_speed)\n",
    "plt.title(\"Wind Speed South vs. City Latitude South\")\n",
    "plt.ylabel(\"Wind Speed\")\n",
    "plt.xlabel(\"Latitude\")\n",
    "plt.plot(S_lat, SWintercept + SWslope*N_lat, 'r')\n",
    "plt.show()\n",
    "\n",
    "print(\"Linear Equation y=\"+str(round(SWslope, 2))+\"x+\"+str(round(SWintercept, 2)))"
   ]
  },
  {
   "cell_type": "code",
   "execution_count": null,
   "metadata": {},
   "outputs": [],
   "source": []
  }
 ],
 "metadata": {
  "anaconda-cloud": {},
  "kernel_info": {
   "name": "python3"
  },
  "kernelspec": {
   "display_name": "Python 3",
   "language": "python",
   "name": "python3"
  },
  "language_info": {
   "codemirror_mode": {
    "name": "ipython",
    "version": 3
   },
   "file_extension": ".py",
   "mimetype": "text/x-python",
   "name": "python",
   "nbconvert_exporter": "python",
   "pygments_lexer": "ipython3",
   "version": "3.7.3"
  },
  "latex_envs": {
   "LaTeX_envs_menu_present": true,
   "autoclose": false,
   "autocomplete": true,
   "bibliofile": "biblio.bib",
   "cite_by": "apalike",
   "current_citInitial": 1,
   "eqLabelWithNumbers": true,
   "eqNumInitial": 1,
   "hotkeys": {
    "equation": "Ctrl-E",
    "itemize": "Ctrl-I"
   },
   "labels_anchors": false,
   "latex_user_defs": false,
   "report_style_numbering": false,
   "user_envs_cfg": false
  },
  "nteract": {
   "version": "0.12.3"
  }
 },
 "nbformat": 4,
 "nbformat_minor": 2
}
